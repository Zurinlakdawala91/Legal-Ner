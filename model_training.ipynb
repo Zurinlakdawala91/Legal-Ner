{
 "cells": [
  {
   "cell_type": "code",
   "execution_count": 1,
   "metadata": {},
   "outputs": [
    {
     "name": "stdout",
     "output_type": "stream",
     "text": [
      "Collecting datasets\n",
      "  Downloading datasets-3.2.0-py3-none-any.whl.metadata (20 kB)\n",
      "Requirement already satisfied: filelock in /home/petpooja-889/miniconda3/envs/qwen/lib/python3.12/site-packages (from datasets) (3.16.1)\n",
      "Requirement already satisfied: numpy>=1.17 in /home/petpooja-889/miniconda3/envs/qwen/lib/python3.12/site-packages (from datasets) (2.1.2)\n",
      "Collecting pyarrow>=15.0.0 (from datasets)\n",
      "  Downloading pyarrow-19.0.0-cp312-cp312-manylinux_2_28_x86_64.whl.metadata (3.3 kB)\n",
      "Collecting dill<0.3.9,>=0.3.0 (from datasets)\n",
      "  Using cached dill-0.3.8-py3-none-any.whl.metadata (10 kB)\n",
      "Requirement already satisfied: pandas in /home/petpooja-889/miniconda3/envs/qwen/lib/python3.12/site-packages (from datasets) (2.2.3)\n",
      "Requirement already satisfied: requests>=2.32.2 in /home/petpooja-889/miniconda3/envs/qwen/lib/python3.12/site-packages (from datasets) (2.32.3)\n",
      "Requirement already satisfied: tqdm>=4.66.3 in /home/petpooja-889/miniconda3/envs/qwen/lib/python3.12/site-packages (from datasets) (4.66.5)\n",
      "Collecting xxhash (from datasets)\n",
      "  Downloading xxhash-3.5.0-cp312-cp312-manylinux_2_17_x86_64.manylinux2014_x86_64.whl.metadata (12 kB)\n",
      "Collecting multiprocess<0.70.17 (from datasets)\n",
      "  Downloading multiprocess-0.70.16-py312-none-any.whl.metadata (7.2 kB)\n",
      "Collecting fsspec<=2024.9.0,>=2023.1.0 (from fsspec[http]<=2024.9.0,>=2023.1.0->datasets)\n",
      "  Using cached fsspec-2024.9.0-py3-none-any.whl.metadata (11 kB)\n",
      "Collecting aiohttp (from datasets)\n",
      "  Downloading aiohttp-3.11.11-cp312-cp312-manylinux_2_17_x86_64.manylinux2014_x86_64.whl.metadata (7.7 kB)\n",
      "Requirement already satisfied: huggingface-hub>=0.23.0 in /home/petpooja-889/miniconda3/envs/qwen/lib/python3.12/site-packages (from datasets) (0.26.1)\n",
      "Requirement already satisfied: packaging in /home/petpooja-889/miniconda3/envs/qwen/lib/python3.12/site-packages (from datasets) (24.1)\n",
      "Requirement already satisfied: pyyaml>=5.1 in /home/petpooja-889/miniconda3/envs/qwen/lib/python3.12/site-packages (from datasets) (6.0.2)\n",
      "Collecting aiohappyeyeballs>=2.3.0 (from aiohttp->datasets)\n",
      "  Downloading aiohappyeyeballs-2.4.4-py3-none-any.whl.metadata (6.1 kB)\n",
      "Collecting aiosignal>=1.1.2 (from aiohttp->datasets)\n",
      "  Downloading aiosignal-1.3.2-py2.py3-none-any.whl.metadata (3.8 kB)\n",
      "Collecting attrs>=17.3.0 (from aiohttp->datasets)\n",
      "  Downloading attrs-25.1.0-py3-none-any.whl.metadata (10 kB)\n",
      "Collecting frozenlist>=1.1.1 (from aiohttp->datasets)\n",
      "  Downloading frozenlist-1.5.0-cp312-cp312-manylinux_2_5_x86_64.manylinux1_x86_64.manylinux_2_17_x86_64.manylinux2014_x86_64.whl.metadata (13 kB)\n",
      "Collecting multidict<7.0,>=4.5 (from aiohttp->datasets)\n",
      "  Downloading multidict-6.1.0-cp312-cp312-manylinux_2_17_x86_64.manylinux2014_x86_64.whl.metadata (5.0 kB)\n",
      "Collecting propcache>=0.2.0 (from aiohttp->datasets)\n",
      "  Downloading propcache-0.2.1-cp312-cp312-manylinux_2_17_x86_64.manylinux2014_x86_64.whl.metadata (9.2 kB)\n",
      "Collecting yarl<2.0,>=1.17.0 (from aiohttp->datasets)\n",
      "  Downloading yarl-1.18.3-cp312-cp312-manylinux_2_17_x86_64.manylinux2014_x86_64.whl.metadata (69 kB)\n",
      "Requirement already satisfied: typing-extensions>=3.7.4.3 in /home/petpooja-889/miniconda3/envs/qwen/lib/python3.12/site-packages (from huggingface-hub>=0.23.0->datasets) (4.12.2)\n",
      "Requirement already satisfied: charset-normalizer<4,>=2 in /home/petpooja-889/miniconda3/envs/qwen/lib/python3.12/site-packages (from requests>=2.32.2->datasets) (3.4.0)\n",
      "Requirement already satisfied: idna<4,>=2.5 in /home/petpooja-889/miniconda3/envs/qwen/lib/python3.12/site-packages (from requests>=2.32.2->datasets) (3.10)\n",
      "Requirement already satisfied: urllib3<3,>=1.21.1 in /home/petpooja-889/miniconda3/envs/qwen/lib/python3.12/site-packages (from requests>=2.32.2->datasets) (2.2.3)\n",
      "Requirement already satisfied: certifi>=2017.4.17 in /home/petpooja-889/miniconda3/envs/qwen/lib/python3.12/site-packages (from requests>=2.32.2->datasets) (2024.8.30)\n",
      "Requirement already satisfied: python-dateutil>=2.8.2 in /home/petpooja-889/miniconda3/envs/qwen/lib/python3.12/site-packages (from pandas->datasets) (2.9.0)\n",
      "Requirement already satisfied: pytz>=2020.1 in /home/petpooja-889/miniconda3/envs/qwen/lib/python3.12/site-packages (from pandas->datasets) (2024.2)\n",
      "Requirement already satisfied: tzdata>=2022.7 in /home/petpooja-889/miniconda3/envs/qwen/lib/python3.12/site-packages (from pandas->datasets) (2024.2)\n",
      "Requirement already satisfied: six>=1.5 in /home/petpooja-889/miniconda3/envs/qwen/lib/python3.12/site-packages (from python-dateutil>=2.8.2->pandas->datasets) (1.16.0)\n",
      "Downloading datasets-3.2.0-py3-none-any.whl (480 kB)\n",
      "Using cached dill-0.3.8-py3-none-any.whl (116 kB)\n",
      "Using cached fsspec-2024.9.0-py3-none-any.whl (179 kB)\n",
      "Downloading aiohttp-3.11.11-cp312-cp312-manylinux_2_17_x86_64.manylinux2014_x86_64.whl (1.7 MB)\n",
      "\u001b[2K   \u001b[90m━━━━━━━━━━━━━━━━━━━━━━━━━━━━━━━━━━━━━━━━\u001b[0m \u001b[32m1.7/1.7 MB\u001b[0m \u001b[31m4.4 MB/s\u001b[0m eta \u001b[36m0:00:00\u001b[0ma \u001b[36m0:00:01\u001b[0m\n",
      "\u001b[?25hDownloading multiprocess-0.70.16-py312-none-any.whl (146 kB)\n",
      "Downloading pyarrow-19.0.0-cp312-cp312-manylinux_2_28_x86_64.whl (42.1 MB)\n",
      "\u001b[2K   \u001b[90m━━━━━━━━━━━━━━━━━━━━━━━━━━━━━━━━━━━━━━━━\u001b[0m \u001b[32m42.1/42.1 MB\u001b[0m \u001b[31m4.8 MB/s\u001b[0m eta \u001b[36m0:00:00\u001b[0m00:01\u001b[0m00:01\u001b[0m\n",
      "\u001b[?25hDownloading xxhash-3.5.0-cp312-cp312-manylinux_2_17_x86_64.manylinux2014_x86_64.whl (194 kB)\n",
      "Downloading aiohappyeyeballs-2.4.4-py3-none-any.whl (14 kB)\n",
      "Downloading aiosignal-1.3.2-py2.py3-none-any.whl (7.6 kB)\n",
      "Downloading attrs-25.1.0-py3-none-any.whl (63 kB)\n",
      "Downloading frozenlist-1.5.0-cp312-cp312-manylinux_2_5_x86_64.manylinux1_x86_64.manylinux_2_17_x86_64.manylinux2014_x86_64.whl (283 kB)\n",
      "Downloading multidict-6.1.0-cp312-cp312-manylinux_2_17_x86_64.manylinux2014_x86_64.whl (131 kB)\n",
      "Downloading propcache-0.2.1-cp312-cp312-manylinux_2_17_x86_64.manylinux2014_x86_64.whl (243 kB)\n",
      "Downloading yarl-1.18.3-cp312-cp312-manylinux_2_17_x86_64.manylinux2014_x86_64.whl (336 kB)\n",
      "Installing collected packages: xxhash, pyarrow, propcache, multidict, fsspec, frozenlist, dill, attrs, aiohappyeyeballs, yarl, multiprocess, aiosignal, aiohttp, datasets\n",
      "  Attempting uninstall: fsspec\n",
      "    Found existing installation: fsspec 2024.10.0\n",
      "    Uninstalling fsspec-2024.10.0:\n",
      "      Successfully uninstalled fsspec-2024.10.0\n",
      "Successfully installed aiohappyeyeballs-2.4.4 aiohttp-3.11.11 aiosignal-1.3.2 attrs-25.1.0 datasets-3.2.0 dill-0.3.8 frozenlist-1.5.0 fsspec-2024.9.0 multidict-6.1.0 multiprocess-0.70.16 propcache-0.2.1 pyarrow-19.0.0 xxhash-3.5.0 yarl-1.18.3\n",
      "Note: you may need to restart the kernel to use updated packages.\n"
     ]
    }
   ],
   "source": [
    "pip install datasets"
   ]
  },
  {
   "cell_type": "code",
   "execution_count": 2,
   "metadata": {},
   "outputs": [
    {
     "name": "stderr",
     "output_type": "stream",
     "text": [
      "/home/petpooja-889/miniconda3/envs/qwen/lib/python3.12/site-packages/tqdm/auto.py:21: TqdmWarning: IProgress not found. Please update jupyter and ipywidgets. See https://ipywidgets.readthedocs.io/en/stable/user_install.html\n",
      "  from .autonotebook import tqdm as notebook_tqdm\n"
     ]
    }
   ],
   "source": [
    "from datasets import load_dataset\n",
    "\n",
    "ds = load_dataset(\"AjayMukundS/Indian_Legal_NER_Dataset\")"
   ]
  },
  {
   "cell_type": "code",
   "execution_count": 3,
   "metadata": {},
   "outputs": [
    {
     "data": {
      "text/plain": [
       "DatasetDict({\n",
       "    train: Dataset({\n",
       "        features: ['text', 'entities'],\n",
       "        num_rows: 10995\n",
       "    })\n",
       "    validation: Dataset({\n",
       "        features: ['text', 'entities'],\n",
       "        num_rows: 1074\n",
       "    })\n",
       "})"
      ]
     },
     "execution_count": 3,
     "metadata": {},
     "output_type": "execute_result"
    }
   ],
   "source": [
    "ds"
   ]
  },
  {
   "cell_type": "code",
   "execution_count": 16,
   "metadata": {},
   "outputs": [
    {
     "name": "stdout",
     "output_type": "stream",
     "text": [
      "Original Dataset:\n",
      "{'text': \"\\n\\n(7) On specific query by the Bench about an entry of Rs. 1,31,37,500 on deposit side of Hongkong Bank account of which a photo copy is appearing at p. 40 of assessee's paper book, learned authorised representative submitted that it was related to loan from broker, Rahul & Co. on the basis of his submission a necessary mark is put by us on that photo copy.\", 'entities': [{'end': 103, 'label': 'ORG', 'start': 90}, {'end': 278, 'label': 'ORG', 'start': 267}]}\n",
      "\n",
      "Cleaned Dataset:\n",
      "{'text': '(7) On specific query by the Bench about an entry of Rs. 1,31,37,500 on deposit side of Hongkong Bank account of which a photo copy is appearing at p. 40 of assessees paper book, learned authorised representative submitted that it was related to loan from broker, Rahul & Co. on the basis of his submission a necessary mark is put by us on that photo copy.', 'entities': [{'end': 103, 'label': 'ORG', 'start': 90}, {'end': 278, 'label': 'ORG', 'start': 267}]}\n"
     ]
    }
   ],
   "source": [
    "import re\n",
    "from datasets import DatasetDict, Dataset\n",
    "\n",
    "# Define the cleaning function\n",
    "def clean_text(text):\n",
    "    # Remove HTML tags\n",
    "    text = re.sub(r'<[^>]+>', '', text)\n",
    "    \n",
    "    # Remove extra newlines and whitespace\n",
    "    text = re.sub(r'\\s+', ' ', text).strip()\n",
    "    \n",
    "    # Remove unwanted special characters (keep legal punctuation like .,!? etc.)\n",
    "    text = re.sub(r'[^\\w\\s.,!?()\\-&]', '', text)\n",
    "    \n",
    "    return text\n",
    "\n",
    "# Apply the cleaning function to the dataset\n",
    "def clean_dataset(example):\n",
    "    example[\"text\"] = clean_text(example[\"text\"])\n",
    "    return example\n",
    "\n",
    "# Assuming your dataset is already loaded into `ds`\n",
    "# Example: ds = load_dataset(\"your_dataset_name\")\n",
    "\n",
    "# Clean the dataset\n",
    "cleaned_ds = ds.map(clean_dataset)\n",
    "\n",
    "# Verify the cleaning\n",
    "print(\"Original Dataset:\")\n",
    "print(ds[\"train\"][0])\n",
    "print(\"\\nCleaned Dataset:\")\n",
    "print(cleaned_ds[\"train\"][0])"
   ]
  },
  {
   "cell_type": "code",
   "execution_count": 17,
   "metadata": {},
   "outputs": [
    {
     "name": "stdout",
     "output_type": "stream",
     "text": [
      "Requirement already satisfied: spacy in /home/petpooja-889/miniconda3/envs/qwen/lib/python3.12/site-packages (3.8.4)\n",
      "Requirement already satisfied: spacy-legacy<3.1.0,>=3.0.11 in /home/petpooja-889/miniconda3/envs/qwen/lib/python3.12/site-packages (from spacy) (3.0.12)\n",
      "Requirement already satisfied: spacy-loggers<2.0.0,>=1.0.0 in /home/petpooja-889/miniconda3/envs/qwen/lib/python3.12/site-packages (from spacy) (1.0.5)\n",
      "Requirement already satisfied: murmurhash<1.1.0,>=0.28.0 in /home/petpooja-889/miniconda3/envs/qwen/lib/python3.12/site-packages (from spacy) (1.0.12)\n",
      "Requirement already satisfied: cymem<2.1.0,>=2.0.2 in /home/petpooja-889/miniconda3/envs/qwen/lib/python3.12/site-packages (from spacy) (2.0.11)\n",
      "Requirement already satisfied: preshed<3.1.0,>=3.0.2 in /home/petpooja-889/miniconda3/envs/qwen/lib/python3.12/site-packages (from spacy) (3.0.9)\n",
      "Requirement already satisfied: thinc<8.4.0,>=8.3.4 in /home/petpooja-889/miniconda3/envs/qwen/lib/python3.12/site-packages (from spacy) (8.3.4)\n",
      "Requirement already satisfied: wasabi<1.2.0,>=0.9.1 in /home/petpooja-889/miniconda3/envs/qwen/lib/python3.12/site-packages (from spacy) (1.1.3)\n",
      "Requirement already satisfied: srsly<3.0.0,>=2.4.3 in /home/petpooja-889/miniconda3/envs/qwen/lib/python3.12/site-packages (from spacy) (2.5.1)\n",
      "Requirement already satisfied: catalogue<2.1.0,>=2.0.6 in /home/petpooja-889/miniconda3/envs/qwen/lib/python3.12/site-packages (from spacy) (2.0.10)\n",
      "Requirement already satisfied: weasel<0.5.0,>=0.1.0 in /home/petpooja-889/miniconda3/envs/qwen/lib/python3.12/site-packages (from spacy) (0.4.1)\n",
      "Requirement already satisfied: typer<1.0.0,>=0.3.0 in /home/petpooja-889/miniconda3/envs/qwen/lib/python3.12/site-packages (from spacy) (0.15.1)\n",
      "Requirement already satisfied: tqdm<5.0.0,>=4.38.0 in /home/petpooja-889/miniconda3/envs/qwen/lib/python3.12/site-packages (from spacy) (4.66.5)\n",
      "Requirement already satisfied: numpy>=1.19.0 in /home/petpooja-889/miniconda3/envs/qwen/lib/python3.12/site-packages (from spacy) (2.1.2)\n",
      "Requirement already satisfied: requests<3.0.0,>=2.13.0 in /home/petpooja-889/miniconda3/envs/qwen/lib/python3.12/site-packages (from spacy) (2.32.3)\n",
      "Requirement already satisfied: pydantic!=1.8,!=1.8.1,<3.0.0,>=1.7.4 in /home/petpooja-889/miniconda3/envs/qwen/lib/python3.12/site-packages (from spacy) (2.10.6)\n",
      "Requirement already satisfied: jinja2 in /home/petpooja-889/miniconda3/envs/qwen/lib/python3.12/site-packages (from spacy) (3.1.4)\n",
      "Requirement already satisfied: setuptools in /home/petpooja-889/miniconda3/envs/qwen/lib/python3.12/site-packages (from spacy) (75.1.0)\n",
      "Requirement already satisfied: packaging>=20.0 in /home/petpooja-889/miniconda3/envs/qwen/lib/python3.12/site-packages (from spacy) (24.1)\n",
      "Requirement already satisfied: langcodes<4.0.0,>=3.2.0 in /home/petpooja-889/miniconda3/envs/qwen/lib/python3.12/site-packages (from spacy) (3.5.0)\n",
      "Requirement already satisfied: language-data>=1.2 in /home/petpooja-889/miniconda3/envs/qwen/lib/python3.12/site-packages (from langcodes<4.0.0,>=3.2.0->spacy) (1.3.0)\n",
      "Requirement already satisfied: annotated-types>=0.6.0 in /home/petpooja-889/miniconda3/envs/qwen/lib/python3.12/site-packages (from pydantic!=1.8,!=1.8.1,<3.0.0,>=1.7.4->spacy) (0.7.0)\n",
      "Requirement already satisfied: pydantic-core==2.27.2 in /home/petpooja-889/miniconda3/envs/qwen/lib/python3.12/site-packages (from pydantic!=1.8,!=1.8.1,<3.0.0,>=1.7.4->spacy) (2.27.2)\n",
      "Requirement already satisfied: typing-extensions>=4.12.2 in /home/petpooja-889/miniconda3/envs/qwen/lib/python3.12/site-packages (from pydantic!=1.8,!=1.8.1,<3.0.0,>=1.7.4->spacy) (4.12.2)\n",
      "Requirement already satisfied: charset-normalizer<4,>=2 in /home/petpooja-889/miniconda3/envs/qwen/lib/python3.12/site-packages (from requests<3.0.0,>=2.13.0->spacy) (3.4.0)\n",
      "Requirement already satisfied: idna<4,>=2.5 in /home/petpooja-889/miniconda3/envs/qwen/lib/python3.12/site-packages (from requests<3.0.0,>=2.13.0->spacy) (3.10)\n",
      "Requirement already satisfied: urllib3<3,>=1.21.1 in /home/petpooja-889/miniconda3/envs/qwen/lib/python3.12/site-packages (from requests<3.0.0,>=2.13.0->spacy) (2.2.3)\n",
      "Requirement already satisfied: certifi>=2017.4.17 in /home/petpooja-889/miniconda3/envs/qwen/lib/python3.12/site-packages (from requests<3.0.0,>=2.13.0->spacy) (2024.8.30)\n",
      "Requirement already satisfied: blis<1.3.0,>=1.2.0 in /home/petpooja-889/miniconda3/envs/qwen/lib/python3.12/site-packages (from thinc<8.4.0,>=8.3.4->spacy) (1.2.0)\n",
      "Requirement already satisfied: confection<1.0.0,>=0.0.1 in /home/petpooja-889/miniconda3/envs/qwen/lib/python3.12/site-packages (from thinc<8.4.0,>=8.3.4->spacy) (0.1.5)\n",
      "Requirement already satisfied: click>=8.0.0 in /home/petpooja-889/miniconda3/envs/qwen/lib/python3.12/site-packages (from typer<1.0.0,>=0.3.0->spacy) (8.1.8)\n",
      "Requirement already satisfied: shellingham>=1.3.0 in /home/petpooja-889/miniconda3/envs/qwen/lib/python3.12/site-packages (from typer<1.0.0,>=0.3.0->spacy) (1.5.4)\n",
      "Requirement already satisfied: rich>=10.11.0 in /home/petpooja-889/miniconda3/envs/qwen/lib/python3.12/site-packages (from typer<1.0.0,>=0.3.0->spacy) (13.9.4)\n",
      "Requirement already satisfied: cloudpathlib<1.0.0,>=0.7.0 in /home/petpooja-889/miniconda3/envs/qwen/lib/python3.12/site-packages (from weasel<0.5.0,>=0.1.0->spacy) (0.20.0)\n",
      "Requirement already satisfied: smart-open<8.0.0,>=5.2.1 in /home/petpooja-889/miniconda3/envs/qwen/lib/python3.12/site-packages (from weasel<0.5.0,>=0.1.0->spacy) (7.1.0)\n",
      "Requirement already satisfied: MarkupSafe>=2.0 in /home/petpooja-889/miniconda3/envs/qwen/lib/python3.12/site-packages (from jinja2->spacy) (3.0.2)\n",
      "Requirement already satisfied: marisa-trie>=1.1.0 in /home/petpooja-889/miniconda3/envs/qwen/lib/python3.12/site-packages (from language-data>=1.2->langcodes<4.0.0,>=3.2.0->spacy) (1.2.1)\n",
      "Requirement already satisfied: markdown-it-py>=2.2.0 in /home/petpooja-889/miniconda3/envs/qwen/lib/python3.12/site-packages (from rich>=10.11.0->typer<1.0.0,>=0.3.0->spacy) (3.0.0)\n",
      "Requirement already satisfied: pygments<3.0.0,>=2.13.0 in /home/petpooja-889/miniconda3/envs/qwen/lib/python3.12/site-packages (from rich>=10.11.0->typer<1.0.0,>=0.3.0->spacy) (2.18.0)\n",
      "Requirement already satisfied: wrapt in /home/petpooja-889/miniconda3/envs/qwen/lib/python3.12/site-packages (from smart-open<8.0.0,>=5.2.1->weasel<0.5.0,>=0.1.0->spacy) (1.17.2)\n",
      "Requirement already satisfied: mdurl~=0.1 in /home/petpooja-889/miniconda3/envs/qwen/lib/python3.12/site-packages (from markdown-it-py>=2.2.0->rich>=10.11.0->typer<1.0.0,>=0.3.0->spacy) (0.1.2)\n",
      "Note: you may need to restart the kernel to use updated packages.\n"
     ]
    }
   ],
   "source": [
    "pip install spacy"
   ]
  },
  {
   "cell_type": "code",
   "execution_count": 20,
   "metadata": {},
   "outputs": [
    {
     "data": {
      "text/plain": [
       "DatasetDict({\n",
       "    train: Dataset({\n",
       "        features: ['text', 'entities'],\n",
       "        num_rows: 10995\n",
       "    })\n",
       "    validation: Dataset({\n",
       "        features: ['text', 'entities'],\n",
       "        num_rows: 1074\n",
       "    })\n",
       "})"
      ]
     },
     "execution_count": 20,
     "metadata": {},
     "output_type": "execute_result"
    }
   ],
   "source": [
    "cleaned_ds"
   ]
  },
  {
   "cell_type": "code",
   "execution_count": 30,
   "metadata": {},
   "outputs": [
    {
     "data": {
      "text/plain": [
       "{'text': '(7) On specific query by the Bench about an entry of Rs. 1,31,37,500 on deposit side of Hongkong Bank account of which a photo copy is appearing at p. 40 of assessees paper book, learned authorised representative submitted that it was related to loan from broker, Rahul & Co. on the basis of his submission a necessary mark is put by us on that photo copy.',\n",
       " 'entities': [{'end': 103, 'label': 'ORG', 'start': 90},\n",
       "  {'end': 278, 'label': 'ORG', 'start': 267}]}"
      ]
     },
     "execution_count": 30,
     "metadata": {},
     "output_type": "execute_result"
    }
   ],
   "source": [
    "cleaned_ds[\"train\"][0]"
   ]
  },
  {
   "cell_type": "code",
   "execution_count": 36,
   "metadata": {},
   "outputs": [],
   "source": [
    "# Load the dataset\n",
    "dataset = load_dataset(\"AjayMukundS/Indian_Legal_NER_Dataset\")\n",
    "train_data = dataset['train']"
   ]
  },
  {
   "cell_type": "code",
   "execution_count": 37,
   "metadata": {},
   "outputs": [],
   "source": [
    "import spacy\n",
    "from datasets import load_dataset\n",
    "from spacy.training.example import Example\n",
    "import random\n",
    "\n",
    "# Initialize a blank English model (or use an existing pre-trained model like 'en_core_web_trf')\n",
    "nlp = spacy.blank(\"en\")\n",
    "\n",
    "# Create a NER pipeline if it doesn't exist\n",
    "if \"ner\" not in nlp.pipe_names:\n",
    "    ner = nlp.add_pipe(\"ner\", last=True)\n",
    "else:\n",
    "    ner = nlp.get_pipe(\"ner\")\n"
   ]
  },
  {
   "cell_type": "code",
   "execution_count": 38,
   "metadata": {},
   "outputs": [],
   "source": [
    "# Add labels to the NER component\n",
    "for entry in train_data:\n",
    "    for entity in entry['entities']:\n",
    "        ner.add_label(entity['label'])"
   ]
  },
  {
   "cell_type": "code",
   "execution_count": 39,
   "metadata": {},
   "outputs": [],
   "source": [
    "# Function to create training data in spaCy format\n",
    "def create_training_data(data):\n",
    "    training_data = []\n",
    "    for entry in data:\n",
    "        text = entry[\"text\"]\n",
    "        annotations = {\"entities\": []}\n",
    "        for entity in entry[\"entities\"]:\n",
    "            start = entity[\"start\"]\n",
    "            end = entity[\"end\"]\n",
    "            label = entity[\"label\"]\n",
    "            annotations[\"entities\"].append((start, end, label))\n",
    "        training_data.append((text, annotations))\n",
    "    return training_data\n",
    "\n",
    "# Create the training data\n",
    "train_examples = create_training_data(train_data)"
   ]
  },
  {
   "cell_type": "code",
   "execution_count": 40,
   "metadata": {},
   "outputs": [],
   "source": [
    "# Convert to spaCy's Example format\n",
    "train_examples_spacy = []\n",
    "for text, annotations in train_examples:\n",
    "    doc = nlp.make_doc(text)\n",
    "    example = Example.from_dict(doc, annotations)\n",
    "    train_examples_spacy.append(example)\n"
   ]
  },
  {
   "cell_type": "code",
   "execution_count": 49,
   "metadata": {},
   "outputs": [
    {
     "name": "stdout",
     "output_type": "stream",
     "text": [
      "Epoch 1 - Losses: {'ner': np.float32(57768.973)}\n",
      "Epoch 2 - Losses: {'ner': np.float32(44596.484)}\n",
      "Epoch 3 - Losses: {'ner': np.float32(38824.99)}\n",
      "Epoch 4 - Losses: {'ner': np.float32(36528.383)}\n",
      "Epoch 5 - Losses: {'ner': np.float32(34120.152)}\n",
      "Epoch 6 - Losses: {'ner': np.float32(32129.707)}\n",
      "Epoch 7 - Losses: {'ner': np.float32(30420.629)}\n",
      "Epoch 8 - Losses: {'ner': np.float32(29578.082)}\n",
      "Epoch 9 - Losses: {'ner': np.float32(27796.457)}\n",
      "Epoch 10 - Losses: {'ner': np.float32(27156.62)}\n",
      "Epoch 11 - Losses: {'ner': np.float32(25820.252)}\n",
      "Epoch 12 - Losses: {'ner': np.float32(25728.92)}\n",
      "Epoch 13 - Losses: {'ner': np.float32(24376.182)}\n",
      "Epoch 14 - Losses: {'ner': np.float32(23690.197)}\n",
      "Epoch 15 - Losses: {'ner': np.float32(23352.732)}\n",
      "Epoch 16 - Losses: {'ner': np.float32(23082.639)}\n",
      "Epoch 17 - Losses: {'ner': np.float32(22681.576)}\n",
      "Epoch 18 - Losses: {'ner': np.float32(21757.172)}\n",
      "Epoch 19 - Losses: {'ner': np.float32(21626.717)}\n",
      "Epoch 20 - Losses: {'ner': np.float32(21442.006)}\n",
      "Epoch 21 - Losses: {'ner': np.float32(20891.111)}\n",
      "Epoch 22 - Losses: {'ner': np.float32(20724.186)}\n",
      "Epoch 23 - Losses: {'ner': np.float32(20561.586)}\n",
      "Epoch 24 - Losses: {'ner': np.float32(20361.785)}\n",
      "Epoch 25 - Losses: {'ner': np.float32(19707.44)}\n",
      "Epoch 26 - Losses: {'ner': np.float32(20036.521)}\n",
      "Epoch 27 - Losses: {'ner': np.float32(19771.588)}\n",
      "Epoch 28 - Losses: {'ner': np.float32(19226.533)}\n",
      "Epoch 29 - Losses: {'ner': np.float32(19217.814)}\n",
      "Epoch 30 - Losses: {'ner': np.float32(18749.29)}\n"
     ]
    }
   ],
   "source": [
    "# Fine-tune the model\n",
    "# Define a training loop (in this case, we'll use 10 iterations)\n",
    "optimizer = nlp.begin_training()\n",
    "\n",
    "# Training loop\n",
    "for epoch in range(30):\n",
    "    random.shuffle(train_examples_spacy)\n",
    "    losses = {}\n",
    "    for batch in spacy.util.minibatch(train_examples_spacy, size=8):\n",
    "        nlp.update(batch, drop=0.5, losses=losses)\n",
    "    print(f\"Epoch {epoch+1} - Losses: {losses}\")\n",
    "\n",
    "# Save the trained model\n",
    "nlp.to_disk(\"ner_model\")\n",
    "\n"
   ]
  },
  {
   "cell_type": "code",
   "execution_count": 51,
   "metadata": {},
   "outputs": [
    {
     "data": {
      "text/html": [
       "<span class=\"tex2jax_ignore\"><div class=\"entities\" style=\"line-height: 2.5; direction: ltr\">On \n",
       "<mark class=\"entity\" style=\"background: linear-gradient(90deg, #FFD700, #FFA500); padding: 0.45em 0.6em; margin: 0 0.25em; line-height: 1; border-radius: 0.35em;\">\n",
       "    15th August 2023\n",
       "    <span style=\"font-size: 0.8em; font-weight: bold; line-height: 1; border-radius: 0.35em; vertical-align: middle; margin-left: 0.5rem\">DATE</span>\n",
       "</mark>\n",
       ", the \n",
       "<mark class=\"entity\" style=\"background: linear-gradient(90deg, #20B2AA, #008B8B); padding: 0.45em 0.6em; margin: 0 0.25em; line-height: 1; border-radius: 0.35em;\">\n",
       "    Supreme Court\n",
       "    <span style=\"font-size: 0.8em; font-weight: bold; line-height: 1; border-radius: 0.35em; vertical-align: middle; margin-left: 0.5rem\">COURT</span>\n",
       "</mark>\n",
       " ruled in \n",
       "<mark class=\"entity\" style=\"background: linear-gradient(90deg, #0000FF, #1E90FF); padding: 0.45em 0.6em; margin: 0 0.25em; line-height: 1; border-radius: 0.35em;\">\n",
       "    Case No. 567/2023\n",
       "    <span style=\"font-size: 0.8em; font-weight: bold; line-height: 1; border-radius: 0.35em; vertical-align: middle; margin-left: 0.5rem\">CASE_NUMBER</span>\n",
       "</mark>\n",
       " that, as per \n",
       "<mark class=\"entity\" style=\"background: linear-gradient(90deg, #9400D3, #8A2BE2); padding: 0.45em 0.6em; margin: 0 0.25em; line-height: 1; border-radius: 0.35em;\">\n",
       "    Section 302\n",
       "    <span style=\"font-size: 0.8em; font-weight: bold; line-height: 1; border-radius: 0.35em; vertical-align: middle; margin-left: 0.5rem\">PROVISION</span>\n",
       "</mark>\n",
       " of the \n",
       "<mark class=\"entity\" style=\"background: linear-gradient(90deg, #FFA07A, #FF4500); padding: 0.45em 0.6em; margin: 0 0.25em; line-height: 1; border-radius: 0.35em;\">\n",
       "    IPC\n",
       "    <span style=\"font-size: 0.8em; font-weight: bold; line-height: 1; border-radius: 0.35em; vertical-align: middle; margin-left: 0.5rem\">STATUTE</span>\n",
       "</mark>\n",
       ", the petitioner, represented by Lawyer Mr. \n",
       "<mark class=\"entity\" style=\"background: linear-gradient(90deg, #8B4513, #D2691E); padding: 0.45em 0.6em; margin: 0 0.25em; line-height: 1; border-radius: 0.35em;\">\n",
       "    Arvind Rao\n",
       "    <span style=\"font-size: 0.8em; font-weight: bold; line-height: 1; border-radius: 0.35em; vertical-align: middle; margin-left: 0.5rem\">OTHER_PERSON</span>\n",
       "</mark>\n",
       ", had the right to appeal against the respondent, the Home Department of Tamil Nadu.</div></span>"
      ],
      "text/plain": [
       "<IPython.core.display.HTML object>"
      ]
     },
     "metadata": {},
     "output_type": "display_data"
    }
   ],
   "source": [
    "import spacy\n",
    "from spacy import displacy\n",
    "\n",
    "# Load the trained NER model\n",
    "trained_ner_model = spacy.load(\"ner_model\")\n",
    "\n",
    "# Test text\n",
    "test_text = \"On 15th August 2023, the Supreme Court ruled in Case No. 567/2023 that, as per Section 302 of the IPC, the petitioner, represented by Lawyer Mr. Arvind Rao, had the right to appeal against the respondent, the Home Department of Tamil Nadu.\"\n",
    "\n",
    "doc = trained_ner_model(test_text)\n",
    "\n",
    "# Define custom colors for entity labels\n",
    "custom_colors = {\n",
    "    \"ORG\": \"linear-gradient(90deg, #FF5733, #C70039)\",  # Red-Orange\n",
    "    \"LAWYER\": \"linear-gradient(90deg, #6A0DAD, #9400D3)\",  # Purple shades\n",
    "    \"DATE\": \"linear-gradient(90deg, #FFD700, #FFA500)\",  # Gold-Orange\n",
    "    \"CASE_NUMBER\": \"linear-gradient(90deg, #0000FF, #1E90FF)\",  # Blue\n",
    "    \"JUDGE\": \"linear-gradient(90deg, #32CD32, #008000)\",  # Green\n",
    "    \"STATUTE\": \"linear-gradient(90deg, #FFA07A, #FF4500)\",  # Light Coral to Orange Red\n",
    "    \"COURT\": \"linear-gradient(90deg, #20B2AA, #008B8B)\",  # Teal\n",
    "    \"RESPONDENT\": \"linear-gradient(90deg, #800000, #FF0000)\",  # Dark Red to Bright Red\n",
    "    \"PRECEDENT\": \"linear-gradient(90deg, #FF1493, #C71585)\",  # Deep Pink to Medium Violet Red\n",
    "    \"WITNESS\": \"linear-gradient(90deg, #708090, #2F4F4F)\",  # Slate Grey to Dark Slate Grey\n",
    "    \"OTHER_PERSON\": \"linear-gradient(90deg, #8B4513, #D2691E)\",  # Saddle Brown to Chocolate\n",
    "    \"GPE\": \"linear-gradient(90deg, #4682B4, #5F9EA0)\",  # Steel Blue to Cadet Blue\n",
    "    \"PROVISION\": \"linear-gradient(90deg, #9400D3, #8A2BE2)\",  # Dark Violet to Blue Violet\n",
    "    \"PETITIONER\": \"linear-gradient(90deg, #556B2F, #6B8E23)\"  # Dark Olive Green to Olive Drab\n",
    "}\n",
    "\n",
    "options = {\"ents\": list(custom_colors.keys()), \"colors\": custom_colors}\n",
    "\n",
    "# Render the highlighted entities in Jupyter Notebook\n",
    "displacy.render(doc, style=\"ent\", jupyter=True, options=options)\n"
   ]
  },
  {
   "cell_type": "code",
   "execution_count": null,
   "metadata": {},
   "outputs": [],
   "source": []
  },
  {
   "cell_type": "code",
   "execution_count": null,
   "metadata": {},
   "outputs": [],
   "source": []
  }
 ],
 "metadata": {
  "kernelspec": {
   "display_name": "qwen",
   "language": "python",
   "name": "python3"
  },
  "language_info": {
   "codemirror_mode": {
    "name": "ipython",
    "version": 3
   },
   "file_extension": ".py",
   "mimetype": "text/x-python",
   "name": "python",
   "nbconvert_exporter": "python",
   "pygments_lexer": "ipython3",
   "version": "3.12.4"
  }
 },
 "nbformat": 4,
 "nbformat_minor": 2
}
